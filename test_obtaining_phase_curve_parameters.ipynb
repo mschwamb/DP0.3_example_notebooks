{
 "cells": [
  {
   "cell_type": "code",
   "execution_count": 1,
   "id": "c5dd6b23-7699-4b90-b096-61c64f983d01",
   "metadata": {
    "execution": {
     "iopub.execute_input": "2023-11-28T19:27:36.388421Z",
     "iopub.status.busy": "2023-11-28T19:27:36.387503Z",
     "iopub.status.idle": "2023-11-28T19:27:36.457500Z",
     "shell.execute_reply": "2023-11-28T19:27:36.456601Z",
     "shell.execute_reply.started": "2023-11-28T19:27:36.388394Z"
    },
    "tags": []
   },
   "outputs": [],
   "source": [
    "from lsst.rsp import get_tap_service, retrieve_query\n",
    "\n",
    "service = get_tap_service(\"ssotap\")"
   ]
  },
  {
   "cell_type": "code",
   "execution_count": 2,
   "id": "e9db05a7-5db3-448f-94cd-31029116a2cc",
   "metadata": {
    "execution": {
     "iopub.execute_input": "2023-11-28T19:29:17.254724Z",
     "iopub.status.busy": "2023-11-28T19:29:17.253672Z",
     "iopub.status.idle": "2023-11-28T19:29:17.258276Z",
     "shell.execute_reply": "2023-11-28T19:29:17.257485Z",
     "shell.execute_reply.started": "2023-11-28T19:29:17.254691Z"
    },
    "tags": []
   },
   "outputs": [],
   "source": [
    "year = 60218.00491 # Starting time of the survey"
   ]
  },
  {
   "cell_type": "code",
   "execution_count": 5,
   "id": "cea6b4c5-2cfe-4c1d-aca6-848242243fbc",
   "metadata": {
    "execution": {
     "iopub.execute_input": "2023-11-28T19:29:50.934887Z",
     "iopub.status.busy": "2023-11-28T19:29:50.933915Z",
     "iopub.status.idle": "2023-11-28T19:29:50.938658Z",
     "shell.execute_reply": "2023-11-28T19:29:50.937880Z",
     "shell.execute_reply.started": "2023-11-28T19:29:50.934840Z"
    },
    "tags": []
   },
   "outputs": [],
   "source": [
    "query = f\"\"\"\n",
    "        select sss.ssObjectId,\n",
    "        band,\n",
    "        count(phaseAngle), \n",
    "        min(phaseAngle) as minPhase, \n",
    "        max(phaseAngle) as maxPhase, \n",
    "        (max(phaseAngle) - min(phaseAngle))/count(sss.ssObjectId) as phaseDensity, \n",
    "        SUM(CASE WHEN phaseAngle < 2 THEN 1 ELSE 0 END) AS oppCOV, \n",
    "        SUM(CASE WHEN phaseAngle > 2 AND phaseAngle < 15 THEN 1 ELSE 0 END) AS modCOV, \n",
    "        SUM(CASE WHEN phaseAngle > 15 THEN 1 ELSE 0 END) AS highCOV,\n",
    "        AVG(mag) as avgMag,\n",
    "        STDDEV(mag) as magSTD,\n",
    "        AVG(magErr) as avgMagErr,\n",
    "        STDDEV(magErr) as MagErrSTD\n",
    "        from dp03_catalogs_10yr.SSSource as sss\n",
    "        left join dp03_catalogs_10yr.DiaSource as dia on sss.diaSourceId = dia.diaSourceId\n",
    "        where dia.midPointMjdTai BETWEEN {year} and {year + 365.25}\n",
    "        group by sss.ssObjectId, band\n",
    "\"\"\""
   ]
  },
  {
   "cell_type": "code",
   "execution_count": 7,
   "id": "58dcf40e-c257-4471-8583-1860972ef9a9",
   "metadata": {
    "execution": {
     "iopub.execute_input": "2023-11-28T19:30:04.801614Z",
     "iopub.status.busy": "2023-11-28T19:30:04.801266Z",
     "iopub.status.idle": "2023-11-28T19:37:58.184062Z",
     "shell.execute_reply": "2023-11-28T19:37:58.183394Z",
     "shell.execute_reply.started": "2023-11-28T19:30:04.801589Z"
    },
    "tags": []
   },
   "outputs": [
    {
     "data": {
      "text/html": [
       "<div><i>Table length=7305937</i>\n",
       "<table id=\"table139775183519632\" class=\"table-striped table-bordered table-condensed\">\n",
       "<thead><tr><th>ssObjectId</th><th>band</th><th>count</th><th>minPhase</th><th>maxPhase</th><th>phaseDensity</th><th>oppCOV</th><th>modCOV</th><th>highCOV</th><th>avgMag</th><th>magSTD</th><th>avgMagErr</th><th>MagErrSTD</th></tr></thead>\n",
       "<thead><tr><th>int64</th><th>str1</th><th>int64</th><th>float32</th><th>float32</th><th>object</th><th>object</th><th>object</th><th>object</th><th>float64</th><th>float64</th><th>float64</th><th>float64</th></tr></thead>\n",
       "<tr><td>-9223370383071521539</td><td>g</td><td>1</td><td>19.91147</td><td>19.91147</td><td>0.0</td><td>0</td><td>0</td><td>1</td><td>22.711999893188477</td><td>--</td><td>0.04800000041723251</td><td>--</td></tr>\n",
       "<tr><td>-9223370383071521539</td><td>i</td><td>11</td><td>16.275051</td><td>24.970007</td><td>0.7904505296186968</td><td>0</td><td>0</td><td>11</td><td>22.4187275279652</td><td>0.3726972699680973</td><td>0.08699999952858145</td><td>0.032236624951502736</td></tr>\n",
       "<tr><td>-9223370383071521539</td><td>r</td><td>9</td><td>16.57338</td><td>24.97247</td><td>0.9332322014702691</td><td>0</td><td>0</td><td>9</td><td>22.60066646999783</td><td>0.4350310842190876</td><td>0.05899999994370672</td><td>0.0250798732881995</td></tr>\n",
       "<tr><td>-9223370383071521539</td><td>z</td><td>8</td><td>16.274822</td><td>19.263687</td><td>0.3736081123352051</td><td>0</td><td>0</td><td>8</td><td>22.035499811172485</td><td>0.1541547500319373</td><td>0.10187500063329935</td><td>0.024180497992098406</td></tr>\n",
       "<tr><td>-9223365099512229794</td><td>g</td><td>4</td><td>9.805749</td><td>10.871321</td><td>0.26639294624328613</td><td>0</td><td>4</td><td>0</td><td>22.925000190734863</td><td>0.08084930335727027</td><td>0.09324999898672104</td><td>0.027717324751030017</td></tr>\n",
       "<tr><td>-9223365099512229794</td><td>i</td><td>6</td><td>8.291893</td><td>10.998314</td><td>0.4510701497395833</td><td>0</td><td>6</td><td>0</td><td>22.315666834513348</td><td>0.10513795618166745</td><td>0.06383333417276542</td><td>0.012750163554330191</td></tr>\n",
       "<tr><td>-9223365099512229794</td><td>r</td><td>9</td><td>9.037793</td><td>10.996722</td><td>0.21765878465440539</td><td>0</td><td>9</td><td>0</td><td>22.724111133151585</td><td>0.3372040590690288</td><td>0.10088889052470525</td><td>0.06292544367015951</td></tr>\n",
       "<tr><td>-9223365099512229794</td><td>z</td><td>8</td><td>8.28835</td><td>11.40376</td><td>0.38942623138427734</td><td>0</td><td>8</td><td>0</td><td>22.397375106811523</td><td>0.15762168982445238</td><td>0.1205000001937151</td><td>0.03474395974532953</td></tr>\n",
       "<tr><td>-9223341751461022808</td><td>g</td><td>3</td><td>4.785544</td><td>5.188366</td><td>0.13427400588989258</td><td>0</td><td>3</td><td>0</td><td>22.99766667683919</td><td>0.021079278896870963</td><td>0.06433333208163579</td><td>0.020033304670493766</td></tr>\n",
       "<tr><td>-9223341751461022808</td><td>i</td><td>13</td><td>6.4213643</td><td>23.295784</td><td>1.2980323204627404</td><td>0</td><td>11</td><td>2</td><td>22.56746116051307</td><td>0.6255741991036639</td><td>0.1074615390254901</td><td>0.06637973676527585</td></tr>\n",
       "<tr><td>...</td><td>...</td><td>...</td><td>...</td><td>...</td><td>...</td><td>...</td><td>...</td><td>...</td><td>...</td><td>...</td><td>...</td><td>...</td></tr>\n",
       "<tr><td>9223311537846468385</td><td>z</td><td>3</td><td>1.780098</td><td>7.391463</td><td>1.8704549471537273</td><td>1</td><td>2</td><td>0</td><td>22.601332982381184</td><td>0.31576342047474554</td><td>0.1523333340883255</td><td>0.007234184215935469</td></tr>\n",
       "<tr><td>9223345276844401162</td><td>g</td><td>3</td><td>12.244626</td><td>13.177291</td><td>0.31088829040527344</td><td>0</td><td>3</td><td>0</td><td>22.56933339436849</td><td>0.06553150454212947</td><td>0.09533333405852318</td><td>0.04277070705158577</td></tr>\n",
       "<tr><td>9223345276844401162</td><td>i</td><td>4</td><td>16.971874</td><td>21.02785</td><td>1.013993740081787</td><td>0</td><td>0</td><td>4</td><td>22.660250186920166</td><td>0.2756618897772403</td><td>0.10549999959766865</td><td>0.025683976439512576</td></tr>\n",
       "<tr><td>9223345276844401162</td><td>r</td><td>9</td><td>12.236835</td><td>21.028078</td><td>0.9768048392401801</td><td>0</td><td>7</td><td>2</td><td>22.356999927096897</td><td>0.3428274033376993</td><td>0.05655555551250776</td><td>0.016978745114689685</td></tr>\n",
       "<tr><td>9223345276844401162</td><td>z</td><td>5</td><td>11.9508295</td><td>20.988861</td><td>1.807606315612793</td><td>0</td><td>2</td><td>3</td><td>22.474999618530273</td><td>0.6339080039950787</td><td>0.15240000039339066</td><td>0.04042647259867792</td></tr>\n",
       "<tr><td>9223353272167950944</td><td>i</td><td>2</td><td>8.134159</td><td>8.2906475</td><td>0.07824420928955078</td><td>0</td><td>2</td><td>0</td><td>23.711999893188477</td><td>0.2616287537674973</td><td>0.18850000202655792</td><td>0.012020808030913365</td></tr>\n",
       "<tr><td>9223353272167950944</td><td>r</td><td>1</td><td>8.28788</td><td>8.28788</td><td>0.0</td><td>0</td><td>1</td><td>0</td><td>23.726999282836914</td><td>--</td><td>0.18199999630451202</td><td>--</td></tr>\n",
       "<tr><td>9223365960393921544</td><td>g</td><td>1</td><td>11.336771</td><td>11.336771</td><td>0.0</td><td>0</td><td>1</td><td>0</td><td>24.690000534057617</td><td>--</td><td>0.1720000058412552</td><td>--</td></tr>\n",
       "<tr><td>9223365960393921544</td><td>i</td><td>3</td><td>5.5802</td><td>6.015584</td><td>0.1451279322306315</td><td>0</td><td>3</td><td>0</td><td>23.431999842325848</td><td>0.177541017506148</td><td>0.1556666692097982</td><td>0.0055075668280183945</td></tr>\n",
       "<tr><td>9223365960393921544</td><td>r</td><td>4</td><td>5.580903</td><td>11.345694</td><td>1.4411976337432861</td><td>0</td><td>4</td><td>0</td><td>23.579999923706055</td><td>0.14026935395533952</td><td>0.13600000366568565</td><td>0.016872068866431705</td></tr>\n",
       "</table></div>"
      ],
      "text/plain": [
       "<Table length=7305937>\n",
       "     ssObjectId      band count ...      avgMagErr            MagErrSTD      \n",
       "       int64         str1 int64 ...       float64              float64       \n",
       "-------------------- ---- ----- ... ------------------- ---------------------\n",
       "-9223370383071521539    g     1 ... 0.04800000041723251                    --\n",
       "-9223370383071521539    i    11 ... 0.08699999952858145  0.032236624951502736\n",
       "-9223370383071521539    r     9 ... 0.05899999994370672    0.0250798732881995\n",
       "-9223370383071521539    z     8 ... 0.10187500063329935  0.024180497992098406\n",
       "-9223365099512229794    g     4 ... 0.09324999898672104  0.027717324751030017\n",
       "-9223365099512229794    i     6 ... 0.06383333417276542  0.012750163554330191\n",
       "-9223365099512229794    r     9 ... 0.10088889052470525   0.06292544367015951\n",
       "-9223365099512229794    z     8 ...  0.1205000001937151   0.03474395974532953\n",
       "-9223341751461022808    g     3 ... 0.06433333208163579  0.020033304670493766\n",
       "-9223341751461022808    i    13 ...  0.1074615390254901   0.06637973676527585\n",
       "                 ...  ...   ... ...                 ...                   ...\n",
       " 9223311537846468385    z     3 ...  0.1523333340883255  0.007234184215935469\n",
       " 9223345276844401162    g     3 ... 0.09533333405852318   0.04277070705158577\n",
       " 9223345276844401162    i     4 ... 0.10549999959766865  0.025683976439512576\n",
       " 9223345276844401162    r     9 ... 0.05655555551250776  0.016978745114689685\n",
       " 9223345276844401162    z     5 ... 0.15240000039339066   0.04042647259867792\n",
       " 9223353272167950944    i     2 ... 0.18850000202655792  0.012020808030913365\n",
       " 9223353272167950944    r     1 ... 0.18199999630451202                    --\n",
       " 9223365960393921544    g     1 ...  0.1720000058412552                    --\n",
       " 9223365960393921544    i     3 ...  0.1556666692097982 0.0055075668280183945\n",
       " 9223365960393921544    r     4 ... 0.13600000366568565  0.016872068866431705"
      ]
     },
     "execution_count": 7,
     "metadata": {},
     "output_type": "execute_result"
    }
   ],
   "source": [
    "results = service.search(query).to_table()\n",
    "results"
   ]
  },
  {
   "cell_type": "code",
   "execution_count": 8,
   "id": "3c579c58-3f8e-4d57-a8cf-fe7e720b7a75",
   "metadata": {
    "execution": {
     "iopub.execute_input": "2023-11-28T20:01:05.475945Z",
     "iopub.status.busy": "2023-11-28T20:01:05.474775Z",
     "iopub.status.idle": "2023-11-28T20:01:05.479935Z",
     "shell.execute_reply": "2023-11-28T20:01:05.479131Z",
     "shell.execute_reply.started": "2023-11-28T20:01:05.475909Z"
    },
    "tags": []
   },
   "outputs": [],
   "source": [
    "query = f\"\"\"\n",
    "        select sss.ssObjectId,\n",
    "        band,\n",
    "        count(phaseAngle), \n",
    "        min(phaseAngle) as minPhase, \n",
    "        max(phaseAngle) as maxPhase, \n",
    "        (max(phaseAngle) - min(phaseAngle))/count(sss.ssObjectId) as phaseDensity, \n",
    "        SUM(CASE WHEN phaseAngle < 2 THEN 1 ELSE 0 END) AS oppCOV, \n",
    "        SUM(CASE WHEN phaseAngle > 2 AND phaseAngle < 15 THEN 1 ELSE 0 END) AS modCOV, \n",
    "        SUM(CASE WHEN phaseAngle > 15 THEN 1 ELSE 0 END) AS highCOV,\n",
    "        AVG(mag) as avgMag,\n",
    "        STDDEV(mag) as magSTD,\n",
    "        AVG(magErr) as avgMagErr,\n",
    "        STDDEV(magErr) as MagErrSTD\n",
    "        from dp03_catalogs_10yr.SSSource as sss\n",
    "        left join dp03_catalogs_10yr.DiaSource as dia on sss.diaSourceId = dia.diaSourceId\n",
    "        where dia.midPointMjdTai BETWEEN {year} and {year + 365.25*5}\n",
    "        group by sss.ssObjectId, band\n",
    "\"\"\""
   ]
  },
  {
   "cell_type": "code",
   "execution_count": 9,
   "id": "99fdaecd-5e93-4dac-bf34-83d932f56905",
   "metadata": {
    "execution": {
     "iopub.execute_input": "2023-11-28T20:01:17.912228Z",
     "iopub.status.busy": "2023-11-28T20:01:17.911832Z",
     "iopub.status.idle": "2023-11-28T20:15:16.497767Z",
     "shell.execute_reply": "2023-11-28T20:15:16.496726Z",
     "shell.execute_reply.started": "2023-11-28T20:01:17.912201Z"
    },
    "tags": []
   },
   "outputs": [
    {
     "ename": "DALFormatError",
     "evalue": "ProtocolError: ('Connection broken: IncompleteRead(2926 bytes read)', IncompleteRead(2926 bytes read))",
     "output_type": "error",
     "traceback": [
      "\u001b[0;31m---------------------------------------------------------------------------\u001b[0m",
      "\u001b[0;31mValueError\u001b[0m                                Traceback (most recent call last)",
      "File \u001b[0;32m/opt/lsst/software/stack/conda/miniconda3-py38_4.9.2/envs/lsst-scipipe-7.0.1/lib/python3.11/http/client.py:566\u001b[0m, in \u001b[0;36mHTTPResponse._get_chunk_left\u001b[0;34m(self)\u001b[0m\n\u001b[1;32m    565\u001b[0m \u001b[38;5;28;01mtry\u001b[39;00m:\n\u001b[0;32m--> 566\u001b[0m     chunk_left \u001b[38;5;241m=\u001b[39m \u001b[38;5;28;43mself\u001b[39;49m\u001b[38;5;241;43m.\u001b[39;49m\u001b[43m_read_next_chunk_size\u001b[49m\u001b[43m(\u001b[49m\u001b[43m)\u001b[49m\n\u001b[1;32m    567\u001b[0m \u001b[38;5;28;01mexcept\u001b[39;00m \u001b[38;5;167;01mValueError\u001b[39;00m:\n",
      "File \u001b[0;32m/opt/lsst/software/stack/conda/miniconda3-py38_4.9.2/envs/lsst-scipipe-7.0.1/lib/python3.11/http/client.py:533\u001b[0m, in \u001b[0;36mHTTPResponse._read_next_chunk_size\u001b[0;34m(self)\u001b[0m\n\u001b[1;32m    532\u001b[0m \u001b[38;5;28;01mtry\u001b[39;00m:\n\u001b[0;32m--> 533\u001b[0m     \u001b[38;5;28;01mreturn\u001b[39;00m \u001b[38;5;28;43mint\u001b[39;49m\u001b[43m(\u001b[49m\u001b[43mline\u001b[49m\u001b[43m,\u001b[49m\u001b[43m \u001b[49m\u001b[38;5;241;43m16\u001b[39;49m\u001b[43m)\u001b[49m\n\u001b[1;32m    534\u001b[0m \u001b[38;5;28;01mexcept\u001b[39;00m \u001b[38;5;167;01mValueError\u001b[39;00m:\n\u001b[1;32m    535\u001b[0m     \u001b[38;5;66;03m# close the connection as protocol synchronisation is\u001b[39;00m\n\u001b[1;32m    536\u001b[0m     \u001b[38;5;66;03m# probably lost\u001b[39;00m\n",
      "\u001b[0;31mValueError\u001b[0m: invalid literal for int() with base 16: b''",
      "\nDuring handling of the above exception, another exception occurred:\n",
      "\u001b[0;31mIncompleteRead\u001b[0m                            Traceback (most recent call last)",
      "File \u001b[0;32m/opt/lsst/software/stack/conda/miniconda3-py38_4.9.2/envs/lsst-scipipe-7.0.1/lib/python3.11/http/client.py:583\u001b[0m, in \u001b[0;36mHTTPResponse._read_chunked\u001b[0;34m(self, amt)\u001b[0m\n\u001b[1;32m    582\u001b[0m \u001b[38;5;28;01mwhile\u001b[39;00m \u001b[38;5;28;01mTrue\u001b[39;00m:\n\u001b[0;32m--> 583\u001b[0m     chunk_left \u001b[38;5;241m=\u001b[39m \u001b[38;5;28;43mself\u001b[39;49m\u001b[38;5;241;43m.\u001b[39;49m\u001b[43m_get_chunk_left\u001b[49m\u001b[43m(\u001b[49m\u001b[43m)\u001b[49m\n\u001b[1;32m    584\u001b[0m     \u001b[38;5;28;01mif\u001b[39;00m chunk_left \u001b[38;5;129;01mis\u001b[39;00m \u001b[38;5;28;01mNone\u001b[39;00m:\n",
      "File \u001b[0;32m/opt/lsst/software/stack/conda/miniconda3-py38_4.9.2/envs/lsst-scipipe-7.0.1/lib/python3.11/http/client.py:568\u001b[0m, in \u001b[0;36mHTTPResponse._get_chunk_left\u001b[0;34m(self)\u001b[0m\n\u001b[1;32m    567\u001b[0m \u001b[38;5;28;01mexcept\u001b[39;00m \u001b[38;5;167;01mValueError\u001b[39;00m:\n\u001b[0;32m--> 568\u001b[0m     \u001b[38;5;28;01mraise\u001b[39;00m IncompleteRead(\u001b[38;5;124mb\u001b[39m\u001b[38;5;124m'\u001b[39m\u001b[38;5;124m'\u001b[39m)\n\u001b[1;32m    569\u001b[0m \u001b[38;5;28;01mif\u001b[39;00m chunk_left \u001b[38;5;241m==\u001b[39m \u001b[38;5;241m0\u001b[39m:\n\u001b[1;32m    570\u001b[0m     \u001b[38;5;66;03m# last chunk: 1*(\"0\") [ chunk-extension ] CRLF\u001b[39;00m\n",
      "\u001b[0;31mIncompleteRead\u001b[0m: IncompleteRead(0 bytes read)",
      "\nThe above exception was the direct cause of the following exception:\n",
      "\u001b[0;31mIncompleteRead\u001b[0m                            Traceback (most recent call last)",
      "File \u001b[0;32m/opt/lsst/software/stack/conda/miniconda3-py38_4.9.2/envs/lsst-scipipe-7.0.1/lib/python3.11/site-packages/urllib3/response.py:444\u001b[0m, in \u001b[0;36mHTTPResponse._error_catcher\u001b[0;34m(self)\u001b[0m\n\u001b[1;32m    443\u001b[0m \u001b[38;5;28;01mtry\u001b[39;00m:\n\u001b[0;32m--> 444\u001b[0m     \u001b[38;5;28;01myield\u001b[39;00m\n\u001b[1;32m    446\u001b[0m \u001b[38;5;28;01mexcept\u001b[39;00m SocketTimeout:\n\u001b[1;32m    447\u001b[0m     \u001b[38;5;66;03m# FIXME: Ideally we'd like to include the url in the ReadTimeoutError but\u001b[39;00m\n\u001b[1;32m    448\u001b[0m     \u001b[38;5;66;03m# there is yet no clean way to get at it from this context.\u001b[39;00m\n",
      "File \u001b[0;32m/opt/lsst/software/stack/conda/miniconda3-py38_4.9.2/envs/lsst-scipipe-7.0.1/lib/python3.11/site-packages/urllib3/response.py:567\u001b[0m, in \u001b[0;36mHTTPResponse.read\u001b[0;34m(self, amt, decode_content, cache_content)\u001b[0m\n\u001b[1;32m    566\u001b[0m \u001b[38;5;28;01mwith\u001b[39;00m \u001b[38;5;28mself\u001b[39m\u001b[38;5;241m.\u001b[39m_error_catcher():\n\u001b[0;32m--> 567\u001b[0m     data \u001b[38;5;241m=\u001b[39m \u001b[38;5;28;43mself\u001b[39;49m\u001b[38;5;241;43m.\u001b[39;49m\u001b[43m_fp_read\u001b[49m\u001b[43m(\u001b[49m\u001b[43mamt\u001b[49m\u001b[43m)\u001b[49m \u001b[38;5;28;01mif\u001b[39;00m \u001b[38;5;129;01mnot\u001b[39;00m fp_closed \u001b[38;5;28;01melse\u001b[39;00m \u001b[38;5;124mb\u001b[39m\u001b[38;5;124m\"\u001b[39m\u001b[38;5;124m\"\u001b[39m\n\u001b[1;32m    568\u001b[0m     \u001b[38;5;28;01mif\u001b[39;00m amt \u001b[38;5;129;01mis\u001b[39;00m \u001b[38;5;28;01mNone\u001b[39;00m:\n",
      "File \u001b[0;32m/opt/lsst/software/stack/conda/miniconda3-py38_4.9.2/envs/lsst-scipipe-7.0.1/lib/python3.11/site-packages/urllib3/response.py:533\u001b[0m, in \u001b[0;36mHTTPResponse._fp_read\u001b[0;34m(self, amt)\u001b[0m\n\u001b[1;32m    531\u001b[0m \u001b[38;5;28;01melse\u001b[39;00m:\n\u001b[1;32m    532\u001b[0m     \u001b[38;5;66;03m# StringIO doesn't like amt=None\u001b[39;00m\n\u001b[0;32m--> 533\u001b[0m     \u001b[38;5;28;01mreturn\u001b[39;00m \u001b[38;5;28;43mself\u001b[39;49m\u001b[38;5;241;43m.\u001b[39;49m\u001b[43m_fp\u001b[49m\u001b[38;5;241;43m.\u001b[39;49m\u001b[43mread\u001b[49m\u001b[43m(\u001b[49m\u001b[43mamt\u001b[49m\u001b[43m)\u001b[49m \u001b[38;5;28;01mif\u001b[39;00m amt \u001b[38;5;129;01mis\u001b[39;00m \u001b[38;5;129;01mnot\u001b[39;00m \u001b[38;5;28;01mNone\u001b[39;00m \u001b[38;5;28;01melse\u001b[39;00m \u001b[38;5;28mself\u001b[39m\u001b[38;5;241m.\u001b[39m_fp\u001b[38;5;241m.\u001b[39mread()\n",
      "File \u001b[0;32m/opt/lsst/software/stack/conda/miniconda3-py38_4.9.2/envs/lsst-scipipe-7.0.1/lib/python3.11/http/client.py:460\u001b[0m, in \u001b[0;36mHTTPResponse.read\u001b[0;34m(self, amt)\u001b[0m\n\u001b[1;32m    459\u001b[0m \u001b[38;5;28;01mif\u001b[39;00m \u001b[38;5;28mself\u001b[39m\u001b[38;5;241m.\u001b[39mchunked:\n\u001b[0;32m--> 460\u001b[0m     \u001b[38;5;28;01mreturn\u001b[39;00m \u001b[38;5;28;43mself\u001b[39;49m\u001b[38;5;241;43m.\u001b[39;49m\u001b[43m_read_chunked\u001b[49m\u001b[43m(\u001b[49m\u001b[43mamt\u001b[49m\u001b[43m)\u001b[49m\n\u001b[1;32m    462\u001b[0m \u001b[38;5;28;01mif\u001b[39;00m amt \u001b[38;5;129;01mis\u001b[39;00m \u001b[38;5;129;01mnot\u001b[39;00m \u001b[38;5;28;01mNone\u001b[39;00m:\n",
      "File \u001b[0;32m/opt/lsst/software/stack/conda/miniconda3-py38_4.9.2/envs/lsst-scipipe-7.0.1/lib/python3.11/http/client.py:598\u001b[0m, in \u001b[0;36mHTTPResponse._read_chunked\u001b[0;34m(self, amt)\u001b[0m\n\u001b[1;32m    597\u001b[0m \u001b[38;5;28;01mexcept\u001b[39;00m IncompleteRead \u001b[38;5;28;01mas\u001b[39;00m exc:\n\u001b[0;32m--> 598\u001b[0m     \u001b[38;5;28;01mraise\u001b[39;00m IncompleteRead(\u001b[38;5;124mb\u001b[39m\u001b[38;5;124m'\u001b[39m\u001b[38;5;124m'\u001b[39m\u001b[38;5;241m.\u001b[39mjoin(value)) \u001b[38;5;28;01mfrom\u001b[39;00m \u001b[38;5;21;01mexc\u001b[39;00m\n",
      "\u001b[0;31mIncompleteRead\u001b[0m: IncompleteRead(2926 bytes read)",
      "\nDuring handling of the above exception, another exception occurred:\n",
      "\u001b[0;31mProtocolError\u001b[0m                             Traceback (most recent call last)",
      "File \u001b[0;32m/opt/lsst/software/stack/conda/miniconda3-py38_4.9.2/envs/lsst-scipipe-7.0.1/lib/python3.11/site-packages/pyvo/dal/query.py:241\u001b[0m, in \u001b[0;36mDALQuery.execute_votable\u001b[0;34m(self, post)\u001b[0m\n\u001b[1;32m    240\u001b[0m \u001b[38;5;28;01mtry\u001b[39;00m:\n\u001b[0;32m--> 241\u001b[0m     \u001b[38;5;28;01mreturn\u001b[39;00m \u001b[43mvotableparse\u001b[49m\u001b[43m(\u001b[49m\u001b[38;5;28;43mself\u001b[39;49m\u001b[38;5;241;43m.\u001b[39;49m\u001b[43mexecute_stream\u001b[49m\u001b[43m(\u001b[49m\u001b[43mpost\u001b[49m\u001b[38;5;241;43m=\u001b[39;49m\u001b[43mpost\u001b[49m\u001b[43m)\u001b[49m\u001b[38;5;241;43m.\u001b[39;49m\u001b[43mread\u001b[49m\u001b[43m)\u001b[49m\n\u001b[1;32m    242\u001b[0m \u001b[38;5;28;01mexcept\u001b[39;00m \u001b[38;5;167;01mException\u001b[39;00m \u001b[38;5;28;01mas\u001b[39;00m e:\n",
      "File \u001b[0;32m/opt/lsst/software/stack/conda/miniconda3-py38_4.9.2/envs/lsst-scipipe-7.0.1/lib/python3.11/site-packages/astropy/utils/decorators.py:604\u001b[0m, in \u001b[0;36mdeprecated_renamed_argument.<locals>.decorator.<locals>.wrapper\u001b[0;34m(*args, **kwargs)\u001b[0m\n\u001b[1;32m    602\u001b[0m         warnings\u001b[38;5;241m.\u001b[39mwarn(msg, warning_type, stacklevel\u001b[38;5;241m=\u001b[39m\u001b[38;5;241m2\u001b[39m)\n\u001b[0;32m--> 604\u001b[0m \u001b[38;5;28;01mreturn\u001b[39;00m \u001b[43mfunction\u001b[49m\u001b[43m(\u001b[49m\u001b[38;5;241;43m*\u001b[39;49m\u001b[43margs\u001b[49m\u001b[43m,\u001b[49m\u001b[43m \u001b[49m\u001b[38;5;241;43m*\u001b[39;49m\u001b[38;5;241;43m*\u001b[39;49m\u001b[43mkwargs\u001b[49m\u001b[43m)\u001b[49m\n",
      "File \u001b[0;32m/opt/lsst/software/stack/conda/miniconda3-py38_4.9.2/envs/lsst-scipipe-7.0.1/lib/python3.11/site-packages/astropy/io/votable/table.py:177\u001b[0m, in \u001b[0;36mparse\u001b[0;34m(source, columns, invalid, verify, chunk_size, table_number, table_id, filename, unit_format, datatype_mapping, _debug_python_based_parser)\u001b[0m\n\u001b[1;32m    174\u001b[0m \u001b[38;5;28;01mwith\u001b[39;00m iterparser\u001b[38;5;241m.\u001b[39mget_xml_iterator(\n\u001b[1;32m    175\u001b[0m     source, _debug_python_based_parser\u001b[38;5;241m=\u001b[39m_debug_python_based_parser\n\u001b[1;32m    176\u001b[0m ) \u001b[38;5;28;01mas\u001b[39;00m iterator:\n\u001b[0;32m--> 177\u001b[0m     \u001b[38;5;28;01mreturn\u001b[39;00m \u001b[43mtree\u001b[49m\u001b[38;5;241;43m.\u001b[39;49m\u001b[43mVOTableFile\u001b[49m\u001b[43m(\u001b[49m\u001b[43mconfig\u001b[49m\u001b[38;5;241;43m=\u001b[39;49m\u001b[43mconfig\u001b[49m\u001b[43m,\u001b[49m\u001b[43m \u001b[49m\u001b[43mpos\u001b[49m\u001b[38;5;241;43m=\u001b[39;49m\u001b[43m(\u001b[49m\u001b[38;5;241;43m1\u001b[39;49m\u001b[43m,\u001b[49m\u001b[43m \u001b[49m\u001b[38;5;241;43m1\u001b[39;49m\u001b[43m)\u001b[49m\u001b[43m)\u001b[49m\u001b[38;5;241;43m.\u001b[39;49m\u001b[43mparse\u001b[49m\u001b[43m(\u001b[49m\u001b[43miterator\u001b[49m\u001b[43m,\u001b[49m\u001b[43m \u001b[49m\u001b[43mconfig\u001b[49m\u001b[43m)\u001b[49m\n",
      "File \u001b[0;32m/opt/lsst/software/stack/conda/miniconda3-py38_4.9.2/envs/lsst-scipipe-7.0.1/lib/python3.11/site-packages/astropy/io/votable/tree.py:3900\u001b[0m, in \u001b[0;36mVOTableFile.parse\u001b[0;34m(self, iterator, config)\u001b[0m\n\u001b[1;32m   3899\u001b[0m \u001b[38;5;28;01mif\u001b[39;00m start:\n\u001b[0;32m-> 3900\u001b[0m     \u001b[43mtag_mapping\u001b[49m\u001b[38;5;241;43m.\u001b[39;49m\u001b[43mget\u001b[49m\u001b[43m(\u001b[49m\u001b[43mtag\u001b[49m\u001b[43m,\u001b[49m\u001b[43m \u001b[49m\u001b[38;5;28;43mself\u001b[39;49m\u001b[38;5;241;43m.\u001b[39;49m\u001b[43m_add_unknown_tag\u001b[49m\u001b[43m)\u001b[49m\u001b[43m(\u001b[49m\n\u001b[1;32m   3901\u001b[0m \u001b[43m        \u001b[49m\u001b[43miterator\u001b[49m\u001b[43m,\u001b[49m\u001b[43m \u001b[49m\u001b[43mtag\u001b[49m\u001b[43m,\u001b[49m\u001b[43m \u001b[49m\u001b[43mdata\u001b[49m\u001b[43m,\u001b[49m\u001b[43m \u001b[49m\u001b[43mconfig\u001b[49m\u001b[43m,\u001b[49m\u001b[43m \u001b[49m\u001b[43mpos\u001b[49m\n\u001b[1;32m   3902\u001b[0m \u001b[43m    \u001b[49m\u001b[43m)\u001b[49m\n\u001b[1;32m   3903\u001b[0m \u001b[38;5;28;01melif\u001b[39;00m tag \u001b[38;5;241m==\u001b[39m \u001b[38;5;124m\"\u001b[39m\u001b[38;5;124mDESCRIPTION\u001b[39m\u001b[38;5;124m\"\u001b[39m:\n",
      "File \u001b[0;32m/opt/lsst/software/stack/conda/miniconda3-py38_4.9.2/envs/lsst-scipipe-7.0.1/lib/python3.11/site-packages/astropy/io/votable/tree.py:3780\u001b[0m, in \u001b[0;36mVOTableFile._add_resource\u001b[0;34m(self, iterator, tag, data, config, pos)\u001b[0m\n\u001b[1;32m   3779\u001b[0m \u001b[38;5;28mself\u001b[39m\u001b[38;5;241m.\u001b[39mresources\u001b[38;5;241m.\u001b[39mappend(resource)\n\u001b[0;32m-> 3780\u001b[0m \u001b[43mresource\u001b[49m\u001b[38;5;241;43m.\u001b[39;49m\u001b[43mparse\u001b[49m\u001b[43m(\u001b[49m\u001b[38;5;28;43mself\u001b[39;49m\u001b[43m,\u001b[49m\u001b[43m \u001b[49m\u001b[43miterator\u001b[49m\u001b[43m,\u001b[49m\u001b[43m \u001b[49m\u001b[43mconfig\u001b[49m\u001b[43m)\u001b[49m\n",
      "File \u001b[0;32m/opt/lsst/software/stack/conda/miniconda3-py38_4.9.2/envs/lsst-scipipe-7.0.1/lib/python3.11/site-packages/astropy/io/votable/tree.py:3578\u001b[0m, in \u001b[0;36mResource.parse\u001b[0;34m(self, votable, iterator, config)\u001b[0m\n\u001b[1;32m   3577\u001b[0m \u001b[38;5;28;01mif\u001b[39;00m start:\n\u001b[0;32m-> 3578\u001b[0m     \u001b[43mtag_mapping\u001b[49m\u001b[38;5;241;43m.\u001b[39;49m\u001b[43mget\u001b[49m\u001b[43m(\u001b[49m\u001b[43mtag\u001b[49m\u001b[43m,\u001b[49m\u001b[43m \u001b[49m\u001b[38;5;28;43mself\u001b[39;49m\u001b[38;5;241;43m.\u001b[39;49m\u001b[43m_add_unknown_tag\u001b[49m\u001b[43m)\u001b[49m\u001b[43m(\u001b[49m\n\u001b[1;32m   3579\u001b[0m \u001b[43m        \u001b[49m\u001b[43miterator\u001b[49m\u001b[43m,\u001b[49m\u001b[43m \u001b[49m\u001b[43mtag\u001b[49m\u001b[43m,\u001b[49m\u001b[43m \u001b[49m\u001b[43mdata\u001b[49m\u001b[43m,\u001b[49m\u001b[43m \u001b[49m\u001b[43mconfig\u001b[49m\u001b[43m,\u001b[49m\u001b[43m \u001b[49m\u001b[43mpos\u001b[49m\n\u001b[1;32m   3580\u001b[0m \u001b[43m    \u001b[49m\u001b[43m)\u001b[49m\n\u001b[1;32m   3581\u001b[0m \u001b[38;5;28;01melif\u001b[39;00m tag \u001b[38;5;241m==\u001b[39m \u001b[38;5;124m\"\u001b[39m\u001b[38;5;124mDESCRIPTION\u001b[39m\u001b[38;5;124m\"\u001b[39m:\n",
      "File \u001b[0;32m/opt/lsst/software/stack/conda/miniconda3-py38_4.9.2/envs/lsst-scipipe-7.0.1/lib/python3.11/site-packages/astropy/io/votable/tree.py:3524\u001b[0m, in \u001b[0;36mResource._add_table\u001b[0;34m(self, iterator, tag, data, config, pos)\u001b[0m\n\u001b[1;32m   3523\u001b[0m \u001b[38;5;28mself\u001b[39m\u001b[38;5;241m.\u001b[39mtables\u001b[38;5;241m.\u001b[39mappend(table)\n\u001b[0;32m-> 3524\u001b[0m \u001b[43mtable\u001b[49m\u001b[38;5;241;43m.\u001b[39;49m\u001b[43mparse\u001b[49m\u001b[43m(\u001b[49m\u001b[43miterator\u001b[49m\u001b[43m,\u001b[49m\u001b[43m \u001b[49m\u001b[43mconfig\u001b[49m\u001b[43m)\u001b[49m\n",
      "File \u001b[0;32m/opt/lsst/software/stack/conda/miniconda3-py38_4.9.2/envs/lsst-scipipe-7.0.1/lib/python3.11/site-packages/astropy/io/votable/tree.py:2744\u001b[0m, in \u001b[0;36mTable.parse\u001b[0;34m(self, iterator, config)\u001b[0m\n\u001b[1;32m   2743\u001b[0m warn_unknown_attrs(\u001b[38;5;124m\"\u001b[39m\u001b[38;5;124mTABLEDATA\u001b[39m\u001b[38;5;124m\"\u001b[39m, data\u001b[38;5;241m.\u001b[39mkeys(), config, pos)\n\u001b[0;32m-> 2744\u001b[0m \u001b[38;5;28mself\u001b[39m\u001b[38;5;241m.\u001b[39marray \u001b[38;5;241m=\u001b[39m \u001b[38;5;28;43mself\u001b[39;49m\u001b[38;5;241;43m.\u001b[39;49m\u001b[43m_parse_tabledata\u001b[49m\u001b[43m(\u001b[49m\n\u001b[1;32m   2745\u001b[0m \u001b[43m    \u001b[49m\u001b[43miterator\u001b[49m\u001b[43m,\u001b[49m\u001b[43m \u001b[49m\u001b[43mcolnumbers\u001b[49m\u001b[43m,\u001b[49m\u001b[43m \u001b[49m\u001b[43mfields\u001b[49m\u001b[43m,\u001b[49m\u001b[43m \u001b[49m\u001b[43mconfig\u001b[49m\n\u001b[1;32m   2746\u001b[0m \u001b[43m\u001b[49m\u001b[43m)\u001b[49m\n\u001b[1;32m   2747\u001b[0m \u001b[38;5;28;01mbreak\u001b[39;00m\n",
      "File \u001b[0;32m/opt/lsst/software/stack/conda/miniconda3-py38_4.9.2/envs/lsst-scipipe-7.0.1/lib/python3.11/site-packages/astropy/io/votable/tree.py:2820\u001b[0m, in \u001b[0;36mTable._parse_tabledata\u001b[0;34m(self, iterator, colnumbers, fields, config)\u001b[0m\n\u001b[1;32m   2819\u001b[0m i \u001b[38;5;241m=\u001b[39m \u001b[38;5;241m0\u001b[39m\n\u001b[0;32m-> 2820\u001b[0m \u001b[38;5;28;01mfor\u001b[39;00m start, tag, data, pos \u001b[38;5;129;01min\u001b[39;00m iterator:\n\u001b[1;32m   2821\u001b[0m     \u001b[38;5;28;01mif\u001b[39;00m start:\n",
      "File \u001b[0;32m/opt/lsst/software/stack/conda/miniconda3-py38_4.9.2/envs/lsst-scipipe-7.0.1/lib/python3.11/site-packages/urllib3/response.py:566\u001b[0m, in \u001b[0;36mHTTPResponse.read\u001b[0;34m(self, amt, decode_content, cache_content)\u001b[0m\n\u001b[1;32m    564\u001b[0m fp_closed \u001b[38;5;241m=\u001b[39m \u001b[38;5;28mgetattr\u001b[39m(\u001b[38;5;28mself\u001b[39m\u001b[38;5;241m.\u001b[39m_fp, \u001b[38;5;124m\"\u001b[39m\u001b[38;5;124mclosed\u001b[39m\u001b[38;5;124m\"\u001b[39m, \u001b[38;5;28;01mFalse\u001b[39;00m)\n\u001b[0;32m--> 566\u001b[0m \u001b[43m\u001b[49m\u001b[38;5;28;43;01mwith\u001b[39;49;00m\u001b[43m \u001b[49m\u001b[38;5;28;43mself\u001b[39;49m\u001b[38;5;241;43m.\u001b[39;49m\u001b[43m_error_catcher\u001b[49m\u001b[43m(\u001b[49m\u001b[43m)\u001b[49m\u001b[43m:\u001b[49m\n\u001b[1;32m    567\u001b[0m \u001b[43m    \u001b[49m\u001b[43mdata\u001b[49m\u001b[43m \u001b[49m\u001b[38;5;241;43m=\u001b[39;49m\u001b[43m \u001b[49m\u001b[38;5;28;43mself\u001b[39;49m\u001b[38;5;241;43m.\u001b[39;49m\u001b[43m_fp_read\u001b[49m\u001b[43m(\u001b[49m\u001b[43mamt\u001b[49m\u001b[43m)\u001b[49m\u001b[43m \u001b[49m\u001b[38;5;28;43;01mif\u001b[39;49;00m\u001b[43m \u001b[49m\u001b[38;5;129;43;01mnot\u001b[39;49;00m\u001b[43m \u001b[49m\u001b[43mfp_closed\u001b[49m\u001b[43m \u001b[49m\u001b[38;5;28;43;01melse\u001b[39;49;00m\u001b[43m \u001b[49m\u001b[38;5;124;43mb\u001b[39;49m\u001b[38;5;124;43m\"\u001b[39;49m\u001b[38;5;124;43m\"\u001b[39;49m\n",
      "File \u001b[0;32m/opt/lsst/software/stack/conda/miniconda3-py38_4.9.2/envs/lsst-scipipe-7.0.1/lib/python3.11/contextlib.py:155\u001b[0m, in \u001b[0;36m_GeneratorContextManager.__exit__\u001b[0;34m(self, typ, value, traceback)\u001b[0m\n\u001b[1;32m    154\u001b[0m \u001b[38;5;28;01mtry\u001b[39;00m:\n\u001b[0;32m--> 155\u001b[0m     \u001b[38;5;28mself\u001b[39m\u001b[38;5;241m.\u001b[39mgen\u001b[38;5;241m.\u001b[39mthrow(typ, value, traceback)\n\u001b[1;32m    156\u001b[0m \u001b[38;5;28;01mexcept\u001b[39;00m \u001b[38;5;167;01mStopIteration\u001b[39;00m \u001b[38;5;28;01mas\u001b[39;00m exc:\n\u001b[1;32m    157\u001b[0m     \u001b[38;5;66;03m# Suppress StopIteration *unless* it's the same exception that\u001b[39;00m\n\u001b[1;32m    158\u001b[0m     \u001b[38;5;66;03m# was passed to throw().  This prevents a StopIteration\u001b[39;00m\n\u001b[1;32m    159\u001b[0m     \u001b[38;5;66;03m# raised inside the \"with\" statement from being suppressed.\u001b[39;00m\n",
      "File \u001b[0;32m/opt/lsst/software/stack/conda/miniconda3-py38_4.9.2/envs/lsst-scipipe-7.0.1/lib/python3.11/site-packages/urllib3/response.py:461\u001b[0m, in \u001b[0;36mHTTPResponse._error_catcher\u001b[0;34m(self)\u001b[0m\n\u001b[1;32m    459\u001b[0m \u001b[38;5;28;01mexcept\u001b[39;00m (HTTPException, SocketError) \u001b[38;5;28;01mas\u001b[39;00m e:\n\u001b[1;32m    460\u001b[0m     \u001b[38;5;66;03m# This includes IncompleteRead.\u001b[39;00m\n\u001b[0;32m--> 461\u001b[0m     \u001b[38;5;28;01mraise\u001b[39;00m ProtocolError(\u001b[38;5;124m\"\u001b[39m\u001b[38;5;124mConnection broken: \u001b[39m\u001b[38;5;132;01m%r\u001b[39;00m\u001b[38;5;124m\"\u001b[39m \u001b[38;5;241m%\u001b[39m e, e)\n\u001b[1;32m    463\u001b[0m \u001b[38;5;66;03m# If no exception is thrown, we should avoid cleaning up\u001b[39;00m\n\u001b[1;32m    464\u001b[0m \u001b[38;5;66;03m# unnecessarily.\u001b[39;00m\n",
      "\u001b[0;31mProtocolError\u001b[0m: ('Connection broken: IncompleteRead(2926 bytes read)', IncompleteRead(2926 bytes read))",
      "\nDuring handling of the above exception, another exception occurred:\n",
      "\u001b[0;31mDALFormatError\u001b[0m                            Traceback (most recent call last)",
      "Cell \u001b[0;32mIn[9], line 1\u001b[0m\n\u001b[0;32m----> 1\u001b[0m results \u001b[38;5;241m=\u001b[39m \u001b[43mservice\u001b[49m\u001b[38;5;241;43m.\u001b[39;49m\u001b[43msearch\u001b[49m\u001b[43m(\u001b[49m\u001b[43mquery\u001b[49m\u001b[43m)\u001b[49m\u001b[38;5;241m.\u001b[39mto_table()\n\u001b[1;32m      2\u001b[0m results\n",
      "File \u001b[0;32m/opt/lsst/software/stack/conda/miniconda3-py38_4.9.2/envs/lsst-scipipe-7.0.1/lib/python3.11/site-packages/pyvo/dal/tap.py:257\u001b[0m, in \u001b[0;36mTAPService.run_sync\u001b[0;34m(self, query, language, maxrec, uploads, **keywords)\u001b[0m\n\u001b[1;32m    228\u001b[0m \u001b[38;5;28;01mdef\u001b[39;00m \u001b[38;5;21mrun_sync\u001b[39m(\n\u001b[1;32m    229\u001b[0m         \u001b[38;5;28mself\u001b[39m, query, language\u001b[38;5;241m=\u001b[39m\u001b[38;5;124m\"\u001b[39m\u001b[38;5;124mADQL\u001b[39m\u001b[38;5;124m\"\u001b[39m, maxrec\u001b[38;5;241m=\u001b[39m\u001b[38;5;28;01mNone\u001b[39;00m, uploads\u001b[38;5;241m=\u001b[39m\u001b[38;5;28;01mNone\u001b[39;00m,\n\u001b[1;32m    230\u001b[0m         \u001b[38;5;241m*\u001b[39m\u001b[38;5;241m*\u001b[39mkeywords):\n\u001b[1;32m    231\u001b[0m \u001b[38;5;250m    \u001b[39m\u001b[38;5;124;03m\"\"\"\u001b[39;00m\n\u001b[1;32m    232\u001b[0m \u001b[38;5;124;03m    runs sync query and returns its result\u001b[39;00m\n\u001b[1;32m    233\u001b[0m \n\u001b[0;32m   (...)\u001b[0m\n\u001b[1;32m    253\u001b[0m \u001b[38;5;124;03m    TAPResults\u001b[39;00m\n\u001b[1;32m    254\u001b[0m \u001b[38;5;124;03m    \"\"\"\u001b[39;00m\n\u001b[1;32m    255\u001b[0m     \u001b[38;5;28;01mreturn\u001b[39;00m \u001b[38;5;28;43mself\u001b[39;49m\u001b[38;5;241;43m.\u001b[39;49m\u001b[43mcreate_query\u001b[49m\u001b[43m(\u001b[49m\n\u001b[1;32m    256\u001b[0m \u001b[43m        \u001b[49m\u001b[43mquery\u001b[49m\u001b[43m,\u001b[49m\u001b[43m \u001b[49m\u001b[43mlanguage\u001b[49m\u001b[38;5;241;43m=\u001b[39;49m\u001b[43mlanguage\u001b[49m\u001b[43m,\u001b[49m\u001b[43m \u001b[49m\u001b[43mmaxrec\u001b[49m\u001b[38;5;241;43m=\u001b[39;49m\u001b[43mmaxrec\u001b[49m\u001b[43m,\u001b[49m\u001b[43m \u001b[49m\u001b[43muploads\u001b[49m\u001b[38;5;241;43m=\u001b[39;49m\u001b[43muploads\u001b[49m\u001b[43m,\u001b[49m\n\u001b[0;32m--> 257\u001b[0m \u001b[43m        \u001b[49m\u001b[38;5;241;43m*\u001b[39;49m\u001b[38;5;241;43m*\u001b[39;49m\u001b[43mkeywords\u001b[49m\u001b[43m)\u001b[49m\u001b[38;5;241;43m.\u001b[39;49m\u001b[43mexecute\u001b[49m\u001b[43m(\u001b[49m\u001b[43m)\u001b[49m\n",
      "File \u001b[0;32m/opt/lsst/software/stack/conda/miniconda3-py38_4.9.2/envs/lsst-scipipe-7.0.1/lib/python3.11/site-packages/pyvo/dal/tap.py:1076\u001b[0m, in \u001b[0;36mTAPQuery.execute\u001b[0;34m(self)\u001b[0m\n\u001b[1;32m   1062\u001b[0m \u001b[38;5;28;01mdef\u001b[39;00m \u001b[38;5;21mexecute\u001b[39m(\u001b[38;5;28mself\u001b[39m):\n\u001b[1;32m   1063\u001b[0m \u001b[38;5;250m    \u001b[39m\u001b[38;5;124;03m\"\"\"\u001b[39;00m\n\u001b[1;32m   1064\u001b[0m \u001b[38;5;124;03m    submit the query and return the results as a TAPResults instance\u001b[39;00m\n\u001b[1;32m   1065\u001b[0m \n\u001b[0;32m   (...)\u001b[0m\n\u001b[1;32m   1074\u001b[0m \u001b[38;5;124;03m       for errors parsing the VOTable response\u001b[39;00m\n\u001b[1;32m   1075\u001b[0m \u001b[38;5;124;03m    \"\"\"\u001b[39;00m\n\u001b[0;32m-> 1076\u001b[0m     \u001b[38;5;28;01mreturn\u001b[39;00m TAPResults(\u001b[38;5;28;43mself\u001b[39;49m\u001b[38;5;241;43m.\u001b[39;49m\u001b[43mexecute_votable\u001b[49m\u001b[43m(\u001b[49m\u001b[43m)\u001b[49m, url\u001b[38;5;241m=\u001b[39m\u001b[38;5;28mself\u001b[39m\u001b[38;5;241m.\u001b[39mqueryurl, session\u001b[38;5;241m=\u001b[39m\u001b[38;5;28mself\u001b[39m\u001b[38;5;241m.\u001b[39m_session)\n",
      "File \u001b[0;32m/opt/lsst/software/stack/conda/miniconda3-py38_4.9.2/envs/lsst-scipipe-7.0.1/lib/python3.11/site-packages/pyvo/dal/query.py:244\u001b[0m, in \u001b[0;36mDALQuery.execute_votable\u001b[0;34m(self, post)\u001b[0m\n\u001b[1;32m    242\u001b[0m \u001b[38;5;28;01mexcept\u001b[39;00m \u001b[38;5;167;01mException\u001b[39;00m \u001b[38;5;28;01mas\u001b[39;00m e:\n\u001b[1;32m    243\u001b[0m     \u001b[38;5;28mself\u001b[39m\u001b[38;5;241m.\u001b[39mraise_if_error()\n\u001b[0;32m--> 244\u001b[0m     \u001b[38;5;28;01mraise\u001b[39;00m DALFormatError(e, \u001b[38;5;28mself\u001b[39m\u001b[38;5;241m.\u001b[39mqueryurl)\n",
      "\u001b[0;31mDALFormatError\u001b[0m: ProtocolError: ('Connection broken: IncompleteRead(2926 bytes read)', IncompleteRead(2926 bytes read))"
     ]
    }
   ],
   "source": [
    "results = service.search(query).to_table()\n",
    "results"
   ]
  },
  {
   "cell_type": "code",
   "execution_count": null,
   "id": "15370b40-9425-4277-9e98-1c1f1e2d7f34",
   "metadata": {},
   "outputs": [],
   "source": []
  }
 ],
 "metadata": {
  "kernelspec": {
   "display_name": "LSST",
   "language": "python",
   "name": "lsst"
  },
  "language_info": {
   "codemirror_mode": {
    "name": "ipython",
    "version": 3
   },
   "file_extension": ".py",
   "mimetype": "text/x-python",
   "name": "python",
   "nbconvert_exporter": "python",
   "pygments_lexer": "ipython3",
   "version": "3.11.4"
  }
 },
 "nbformat": 4,
 "nbformat_minor": 5
}
